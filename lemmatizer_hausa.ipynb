{
  "nbformat": 4,
  "nbformat_minor": 0,
  "metadata": {
    "colab": {
      "provenance": []
    },
    "kernelspec": {
      "name": "python3",
      "display_name": "Python 3"
    },
    "language_info": {
      "name": "python"
    }
  },
  "cells": [
    {
      "cell_type": "code",
      "source": [
        "!pip install hausastemmer"
      ],
      "metadata": {
        "id": "h78r6Y4NQh2d",
        "collapsed": true
      },
      "execution_count": null,
      "outputs": []
    },
    {
      "cell_type": "code",
      "source": [
        "import pandas as pd\n",
        "import json\n",
        "import re\n",
        "import hausastemmer"
      ],
      "metadata": {
        "id": "0eycS3-AQYpA"
      },
      "execution_count": null,
      "outputs": []
    },
    {
      "cell_type": "markdown",
      "source": [
        "# Загрузка словарей"
      ],
      "metadata": {
        "id": "d1ynq6hpQcma"
      }
    },
    {
      "cell_type": "code",
      "source": [
        "with open('pron.json', encoding='utf-8') as f:\n",
        "    dictionary_pronouns = json.load(f)\n",
        "\n",
        "with open('document_lemm.json', encoding='utf-8') as f:\n",
        "    dictionary_full = json.load(f)\n",
        "\n",
        "#with open('verbs.json', encoding='utf-8') as f:\n",
        "#with open('nouns.json', encoding='utf-8') as f:\n",
        "#with open('other.json', encoding='utf-8') as f:"
      ],
      "metadata": {
        "id": "PXT-WoV0Qaqg"
      },
      "execution_count": null,
      "outputs": []
    },
    {
      "cell_type": "markdown",
      "source": [
        "#  Лемматизатор"
      ],
      "metadata": {
        "id": "9LV6rReKDlTw"
      }
    },
    {
      "cell_type": "markdown",
      "source": [
        "## Обработка числительных"
      ],
      "metadata": {
        "id": "0LkcdIGLbWB1"
      }
    },
    {
      "cell_type": "code",
      "source": [
        "def process_numbers(sentence):\n",
        "    numerals = {\n",
        "        'ɗaya': 1, 'biyu': 2, 'uku': 3, 'huɗu': 4, 'biyar': 5,\n",
        "        'shida': 6, 'bakwai': 7, 'takwas': 8, 'tara': 9,\n",
        "        'goma': 10, 'ashirin': 20, 'talatin': 30, 'arba′in': 40,\n",
        "        'hamsin': 50, 'sittin': 60, 'saba′in': 70, 'tamanin': 80,\n",
        "        'casa′in': 90, 'ɗari': 100, 'metan': 200, 'alif': 1000,\n",
        "        'dubu': 1000\n",
        "        }\n",
        "\n",
        "    # заменяем все числа на 0\n",
        "    sentence = ['0' if word in numerals else word for word in sentence]\n",
        "\n",
        "    if sentence.count('0') > 1:\n",
        "        line = ' '.join(sentence)\n",
        "\n",
        "        # удаляем sha в последовательностях \"0 sha 0\"\n",
        "        line = re.sub(r'0\\s+sha\\s+0', '0', line)\n",
        "\n",
        "        # удаляем da в последовательностях \"0 da 0 (... da 0)\"\n",
        "        line = re.sub(r\"\\b0(?:\\s+da\\s+0)+\\b\", \"0\", line)\n",
        "\n",
        "        sentence = line.split()\n",
        "\n",
        "    # помечаем измененные сущ. (кроме измерений) множественным числом\n",
        "    measures = ['kilomita', 'tan', 'lita', 'miniti', 'mako']\n",
        "\n",
        "    for i in range(1, len(sentence)):\n",
        "        if sentence[i] == 0 and sentence[i-1] == 'na':\n",
        "            sentence[i-1] == '_gen'\n",
        "        elif sentence[i] == 0 and (sentence[i-1] not in measures):\n",
        "            sentence[i-1] += '/pl'\n",
        "\n",
        "    return sentence"
      ],
      "metadata": {
        "id": "k6G9HlMGbT3P"
      },
      "execution_count": null,
      "outputs": []
    },
    {
      "cell_type": "markdown",
      "source": [
        "## Обработка самостоятельных местоимений"
      ],
      "metadata": {
        "id": "2s0mU6ZCQl9g"
      }
    },
    {
      "cell_type": "code",
      "source": [
        "# для односоставных мест.\n",
        "def process_pron(word1, pronouns=dictionary_pronouns):\n",
        "\n",
        "    for pron_category, pron_dict in pronouns.items():\n",
        "        if word1 in pron_dict:\n",
        "            value = pron_dict[word1]\n",
        "\n",
        "            # если глагольное местоимение, возвращаем verbal_pron\n",
        "            if pron_category.startswith('verbal'):\n",
        "                word1 = f'verbal_pron_{value}'\n",
        "\n",
        "            elif pron_category.startswith('neg'):\n",
        "                word1 = f'ba+verbal_pron_{value}'\n",
        "\n",
        "            # во всех остальных случаях возвращаем pron\n",
        "            else:\n",
        "                word1 = f'pron_{value}'\n",
        "\n",
        "    return word1\n",
        "\n",
        "\n",
        "# для двусоставных мест.\n",
        "def process_pron2(word1, word2, pronouns=dictionary_pronouns):\n",
        "\n",
        "    # склеиваем два слова в одно\n",
        "    word_whole = word1 + ' ' + word2\n",
        "\n",
        "    # ищем в словарях\n",
        "    for pron_category, pron_dict in pronouns.items():\n",
        "        if word_whole in pron_dict:\n",
        "            value = pron_dict[word_whole]\n",
        "            word_whole = f'pron_{value}'\n",
        "            return word_whole, '0'\n",
        "\n",
        "    return word1, word2"
      ],
      "metadata": {
        "id": "SXsuHPo6QpoA"
      },
      "execution_count": null,
      "outputs": []
    },
    {
      "cell_type": "markdown",
      "source": [
        "## Обработка глаголов"
      ],
      "metadata": {
        "id": "Royx7VqpQr27"
      }
    },
    {
      "cell_type": "code",
      "source": [
        "def process_verb(word, verbs=dictionary_full):\n",
        "    changes_vow = {'i': 'a', 'e': 'a'}\n",
        "    changes_cons = {'c': 't', 'j': 'z', 'sh': 's'}\n",
        "\n",
        "    last_char = word[-1]\n",
        "    new_word = word\n",
        "\n",
        "    # конструируем инфинитив для возможных транзитивных глаголов\n",
        "    if last_char in changes_vow:\n",
        "        new_word = word[:-1] + changes_vow[last_char]\n",
        "\n",
        "        prev_char = word[-2]\n",
        "        if prev_char in changes_cons:\n",
        "            new_word = new_word[:-2] + changes_cons[prev_char] + new_word[-1:]\n",
        "        elif len(word) >= 3 and word[-3:-1] == 'sh':\n",
        "            new_word = new_word[:-3] + 's' + new_word[-2:]\n",
        "\n",
        "    # если нашли измененный, возвращаем его\n",
        "    if new_word in verbs:\n",
        "        if 'tr' in verbs[new_word]:\n",
        "            return new_word + '_tr'\n",
        "        else:\n",
        "            return new_word + '_poss_tr'\n",
        "\n",
        "    # если нашли неизмененный, возвращаем его\n",
        "    if word in verbs:\n",
        "        if 'intr' in verbs[word]:\n",
        "            return word + '_intr'\n",
        "        else:\n",
        "            return word + '_poss_intr'\n",
        "\n",
        "    return word"
      ],
      "metadata": {
        "id": "Ow4aiSErQrZQ"
      },
      "execution_count": null,
      "outputs": []
    },
    {
      "cell_type": "markdown",
      "source": [
        "## Обработка генитивных конструкций (с сущ. и мест.)"
      ],
      "metadata": {
        "id": "HCd3wkUPQygJ"
      }
    },
    {
      "cell_type": "code",
      "source": [
        "# обработка генитивных конструкций\n",
        "\n",
        "# cущ. + сущ.\n",
        "def process_gen(word, marked_gen=False, nouns=dictionary_full):\n",
        "    possible_outcomes = []\n",
        "    possible_outcomes1 = []\n",
        "    keeping = False\n",
        "\n",
        "    if word[-3:-1] == '/pl':\n",
        "      keeping = True\n",
        "      word = word[:-3]\n",
        "\n",
        "    # если есть генитивная связка\n",
        "    if word == ('na' or 'ta'):\n",
        "        return '_gen'\n",
        "\n",
        "    # если есть суффикс\n",
        "    if word[-2:] in ['na', 'ra']:\n",
        "        possible_outcomes = [word[-2:], word[-2:] + 'i', word[-2:] + 'u']\n",
        "\n",
        "    # обработка результата\n",
        "\n",
        "    # если не указано, что мн. ч.\n",
        "    if not keeping:\n",
        "        for item in possible_outcomes:\n",
        "            if item in nouns:\n",
        "                possible_outcomes1.append(item)\n",
        "\n",
        "        if possible_outcomes1:\n",
        "            return possible_outcomes1[0]\n",
        "\n",
        "    # если указано, что мн. ч.\n",
        "    if keeping:\n",
        "        word += '/pl'\n",
        "\n",
        "    return word\n",
        "\n",
        "# сущ. + посесс. мест.\n",
        "def process_gen2(word, nouns=dictionary_nouns):\n",
        "\n",
        "    pron_affix = {\n",
        "        'na': '1sg/m', 'nmu': '1pl/m',\n",
        "        'nka': '2m/m', 'nki': '2f/m', 'nku': '2pl/m',\n",
        "        'nsa': '3m/m', 'nta': '3f/m', 'nsu': '3pl/m',\n",
        "        'ta': '1sg/f', 'rmu': '1pl/f',\n",
        "        'rka': '2m/f', 'rki': '2f/f', 'rku': '2pl/f',\n",
        "        'rsa': '3m/f', 'rta': '3f/f', 'rsu': '3pl/f'\n",
        "        }\n",
        "\n",
        "    for form in pron_affix:\n",
        "        if word.endswith(form):\n",
        "            new_word = word[:len(form)]\n",
        "            return new_word\n",
        "\n",
        "    return word"
      ],
      "metadata": {
        "id": "ZpKqwobLQ1Lw"
      },
      "execution_count": null,
      "outputs": []
    },
    {
      "cell_type": "markdown",
      "source": [
        "## Обработка плюралиса"
      ],
      "metadata": {
        "id": "uH07KmO9Q4O6"
      }
    },
    {
      "cell_type": "code",
      "source": [
        "# функция для нахождения числа слогов в слове\n",
        "def count_syllables(word):\n",
        "\n",
        "    vow = ['au', 'ai', '’ya', 'a', 'e', 'i', 'y', 'o', 'u']\n",
        "    pattern = '|'.join(map(re.escape, vow))\n",
        "    matches = re.findall(pattern, word, flags=re.IGNORECASE)\n",
        "\n",
        "    return len(matches)"
      ],
      "metadata": {
        "id": "cCDVYT0bU5KR"
      },
      "execution_count": null,
      "outputs": []
    },
    {
      "cell_type": "code",
      "source": [
        "def process_plural(word, nouns=dictionary_nouns):\n",
        "    possible_outcomes = []\n",
        "\n",
        "    syllables = count_syllables(word)\n",
        "    # проверяем, может ли быть суффикс\n",
        "\n",
        "    # суфф. a (двухсложные слова на -o/-e м.р. кроме mace (ж.р.) -> mata)\n",
        "    if word[-1] == 'a':\n",
        "        if syllables == 2:\n",
        "            new_word = word[-1]\n",
        "            possible_outcomes += [new_word + 'e', new_word + 'o']\n",
        "\n",
        "    # суфф. i (двух- и трехсложные слова)\n",
        "    if word[-1] == 'i':\n",
        "        if 2 <= syllables <= 3:\n",
        "        possible_outcomes.append(word[-1])\n",
        "\n",
        "    # суфф. u\n",
        "    if word[-1] == 'u':\n",
        "        possible_outcomes.append(word[-1])\n",
        "\n",
        "    # суфф. ai (многосложные слова,\n",
        "    # последний согласный слова может депалатализовываться)\n",
        "    if word[-2:] == 'ai':\n",
        "        if syllables >= 3:\n",
        "            possible_outcomes.append(word[:-2])\n",
        "\n",
        "    # суфф. aye, aki, una, uwa\n",
        "    if word[-3:] in ['aye', 'aki', 'una', 'uwa']:\n",
        "        possible_outcomes.append(word[:-3])\n",
        "\n",
        "    # суфф. anni\n",
        "    if word[-4:] == 'anni':\n",
        "        possible_outcomes.append(word[:-4])\n",
        "\n",
        "    # проверяем, есть ли в noun или other слово, которое\n",
        "    # начинается с последовательнстей из possible_outcomes\n",
        "\n",
        "    for noun_category, noun_dict in nouns.items():\n",
        "        if word in noun_dict:\n",
        "            return word\n",
        "    return word + '_not_found'"
      ],
      "metadata": {
        "id": "mJXnbDE0Q5xY"
      },
      "execution_count": null,
      "outputs": []
    },
    {
      "cell_type": "markdown",
      "source": [
        "## Обработка предложения"
      ],
      "metadata": {
        "id": "nD8qrFAEQ-y6"
      }
    },
    {
      "cell_type": "code",
      "execution_count": null,
      "metadata": {
        "id": "XHKP5W51O8Wu"
      },
      "outputs": [],
      "source": [
        "def process_sent(sentence):\n",
        "\n",
        "    # удаляем числа (заменяем на 00), разбиваем предложение на слова, удаляем пунктуацию\n",
        "    sentence = re.sub(r\"[-+]?\\d*\\.?\\d+(?:[eE][-+]?\\d+)?\", \"00\", sentence)\n",
        "    sentence = [word.lower() for word in re.sub(r\"\\B['-]|['-]\\B|[^\\w\\s'’-]\", '', sentence).split()]\n",
        "\n",
        "    # очищаем предложение от числительных (заменяем на 0)\n",
        "    sentence = process_numbers(sentence)\n",
        "\n",
        "    # заменяем все самостоятельные местоимения\n",
        "    for word0 in range(len(sentence)-1):\n",
        "      sentence[word0], sentence[word0+1] = process_pron2(sentence[word0], sentence[word0+1])\n",
        "\n",
        "    sentence = [process_pron(i) for i in sentence]\n",
        "\n",
        "    # приводим все глаголы к начальному виду\n",
        "    next_verb = False\n",
        "    for word1 in range(len(sentence)):\n",
        "        if ('verbal' in sentence[word1]):\n",
        "            next_verb = True\n",
        "        elif sentence[word1] == 'kuma':\n",
        "            continue  # между приглаг. мест. и глаг. может быть только kuma\n",
        "        else:\n",
        "            if next_verb:\n",
        "                sentence[word1] = process_verb(sentence[word1], dictionary_verbs)\n",
        "                next_verb = False\n",
        "\n",
        "    # обрабатываем генитив\n",
        "    word2_processed = ''\n",
        "    for word2 in range(len(sentence)-1):\n",
        "        if not '_' in sentence[word2]:\n",
        "            word2_processed = process_gen2(sentence[word2])\n",
        "        if word2_processed == sentence[word2]:\n",
        "            if not '_' in sentence[word2+1]:\n",
        "                if sentence[word2+1] == ('nan' or 'can'):\n",
        "                    sentence[word2] = process_gen(True, sentence[word2])\n",
        "                else:\n",
        "                    sentence[word2] = process_gen(sentence[word2])\n",
        "\n",
        "    # обрабатываем плюралис\n",
        "    for word3 in range(len(sentence)-1):\n",
        "        if not '_' in sentence[word3]:\n",
        "          sentence[word3] = process_plural(sentence[word3])\n",
        "\n",
        "    # удаляем все _\n",
        "    # sentence = [word.split('_')[0] if not word.startswith('verbal') else 'pron' for word in sentence]\n",
        "\n",
        "    return sentence\n"
      ]
    },
    {
      "cell_type": "markdown",
      "source": [
        "#   Процессинг текстов"
      ],
      "metadata": {
        "id": "25zgqWFRRCsu"
      }
    },
    {
      "cell_type": "code",
      "source": [
        "s = '-\tAure! Inna, ni fa na gaya muku, ba zan auri kowa ba, sai wanda nake so. Kun san, zamani ya sake. Kuma yanzu ban ga abin da zai hana ku ba ni shi ba. Yana da mutumci da natsuwa. Kuma daidai muke, tun da yana da asali, ba za ku yarda in zaɓi na ƙasa da ni ba? - Bodado, mu ba mu hana ki zaɗenki ba. Ba mu kuma ce ba shi da duk abin da kika ce yana da shi ba. Mu dai ba irinmu ba ne. Hanyoyinsu da ɗabi’o’insu da al’adunsu sun bambanta da namu. Yaya za mu yi mu ba shi ɗiyarmu? Ba ma haka ba, idan wata rana ya ce za shi garinsu, yaya za mu yi mu hana shi tafiya da matarsa?'\n",
        "s1 = \"A farko-farkon ƙarni na 19, a sa'adda ƙabilar Hausawa ke yunƙurin kawar da mulkin aringizo na Fulani, sai Turawan Mulkin Mallaka na Birtaniya suka mamaye Arewancin Najeriya, da kuma kafa manufofin mulkinsu, a bisa karkashin mulkin Birtaniya, 'yan mulkin mallaka sai suka marawa Fulani baya na cigaba da manufofin aringizon siyasarsu, har yanzu dai mulkin gamin-gambiza tsakanin Hausawa da Fulani shi ne ya yi kane-kane a arewacin Najeriya.\"\n",
        "\n",
        "s = s1.split('.')\n",
        "for i in s:\n",
        "    print(i)\n",
        "    print(*process_sent(i))\n",
        "\n",
        "print(process_sent(s3))"
      ],
      "metadata": {
        "collapsed": true,
        "id": "65af6LkZREME"
      },
      "execution_count": null,
      "outputs": []
    },
    {
      "cell_type": "markdown",
      "source": [
        "# Векторизация"
      ],
      "metadata": {
        "id": "Q819vEQCD_Ky"
      }
    },
    {
      "cell_type": "markdown",
      "source": [
        "to be continued..."
      ],
      "metadata": {
        "id": "G2m58WbNfedM"
      }
    }
  ]
}