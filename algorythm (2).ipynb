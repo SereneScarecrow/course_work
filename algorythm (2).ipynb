{
  "cells": [
    {
      "cell_type": "code",
      "source": [
        "import pandas as pd\n",
        "import numpy as np\n",
        "import pickle\n",
        "import seaborn as sns\n",
        "import matplotlib.pyplot as plt\n",
        "from scipy.spatial.distance import pdist"
      ],
      "metadata": {
        "id": "OTHTO1iKxSPR"
      },
      "execution_count": 1,
      "outputs": []
    },
    {
      "cell_type": "code",
      "source": [
        "from tqdm import tqdm\n",
        "tqdm.pandas()"
      ],
      "metadata": {
        "id": "ToM3OvGB4nbj"
      },
      "execution_count": 2,
      "outputs": []
    },
    {
      "cell_type": "markdown",
      "source": [
        "# Алгоритм для вычисления корреляционной размерности"
      ],
      "metadata": {
        "id": "PjA8DUdUyY_O"
      }
    },
    {
      "cell_type": "markdown",
      "source": [
        "## Функция для определения range epsilon"
      ],
      "metadata": {
        "id": "44_6r7I5yrAX"
      }
    },
    {
      "cell_type": "code",
      "execution_count": 3,
      "metadata": {
        "collapsed": true,
        "id": "BCoaIzCvMVMc"
      },
      "outputs": [],
      "source": [
        "def establish_epsilon_range(text_embedding):\n",
        "\n",
        "    # находим все попарные рсстояния между точками (евклидово расстояние)\n",
        "    distances = np.array(pdist(text_embedding, 'euclidean'))\n",
        "\n",
        "    # определяем шаг, создаем список из log(epsilon)\n",
        "    epsilon_range = np.linspace(min(distances)+0.00001, 15, 1000)\n",
        "    epsilon_range_log = [np.log(i) for i in epsilon_range]\n",
        "\n",
        "    # возвращаем попарные расстояния, список epsilon и список log(epsilon)\n",
        "    return distances, epsilon_range, epsilon_range_log"
      ]
    },
    {
      "cell_type": "markdown",
      "source": [
        "## Функция для рассчета корреляционного интеграла (C)"
      ],
      "metadata": {
        "id": "ONmC0VHyyt4S"
      }
    },
    {
      "cell_type": "code",
      "source": [
        "def get_C_log(distances, epsilon_range):\n",
        "\n",
        "    # для всех epsilon находим отношение числа расстояний,\n",
        "    # меньших epsilon, к полному числу пар\n",
        "    c_d =  np.array([np.mean(distances < eps) for eps in epsilon_range])\n",
        "    c_log = [np.log(i) for i in c_d]\n",
        "\n",
        "    return c_log"
      ],
      "metadata": {
        "id": "tPz0y6wjEKdZ"
      },
      "execution_count": 4,
      "outputs": []
    },
    {
      "cell_type": "markdown",
      "source": [
        "## Функция для нахождения углового коэффициента"
      ],
      "metadata": {
        "id": "XyC1XuuwzYG8"
      }
    },
    {
      "cell_type": "code",
      "source": [
        "def lin_reg(X, Y):\n",
        "\n",
        "    # обрезаем часть графика, которая содержится между y = -9 и y = -2\n",
        "    # для вычисления размерности аттрактора Лоренца\n",
        "\n",
        "    #X_trimmed = [x_i for x_i, y_i in zip(X, Y) if -9 <= y_i <= -2]\n",
        "    #Y_trimmed = [y_i for y_i in Y if -9 <= y_i <= -2]\n",
        "\n",
        "    # обрезаем часть графика, которая содержится между y = -4 и y = -1\n",
        "    # для вычисления размерности текстов\n",
        "    X_trimmed = [x_i for x_i, y_i in zip(X, Y) if -4 <= y_i <= -1]\n",
        "    Y_trimmed = [y_i for y_i in Y if -4 <= y_i <= -1]\n",
        "\n",
        "    # линейная регрессия\n",
        "    slope = np.polyfit(X_trimmed, Y_trimmed, 1)[0]\n",
        "\n",
        "    # возвращаем угл. коэф.\n",
        "    return slope"
      ],
      "metadata": {
        "id": "CFxlkhmlzYZg"
      },
      "execution_count": 5,
      "outputs": []
    },
    {
      "cell_type": "markdown",
      "source": [
        "##  Функция для отрисовки графиков"
      ],
      "metadata": {
        "id": "ugTYpE2dAwgN"
      }
    },
    {
      "cell_type": "code",
      "source": [
        "def make_graph(X, Y, ):\n",
        "\n",
        "    plt.plot(X, Y, label=f\"ln C(e) ~ ln e /1000\")\n",
        "    plt.xlabel(\"log(epsilon)\")\n",
        "    plt.ylabel(\"log C(epsilon)\")\n",
        "    plt.legend()\n",
        "    plt.title(\"C(epsilon) vs. log(epsilon)\")\n",
        "    plt.show()\n",
        "\n",
        "    pass"
      ],
      "metadata": {
        "id": "GiGNv8u8A1tL"
      },
      "execution_count": 6,
      "outputs": []
    },
    {
      "cell_type": "markdown",
      "source": [
        "## Функция для запуска алгоритма"
      ],
      "metadata": {
        "id": "RWStUYmWywgj"
      }
    },
    {
      "cell_type": "code",
      "source": [
        "# для единственной размерности данных\n",
        "def calculate_1_dimension(embedding, n=6):\n",
        "    embedding = [word_vector[:n+1] for word_vector in embedding]\n",
        "    try:\n",
        "        dist, eps_range, eps_range_log = establish_epsilon_range(embedding)\n",
        "        c_log = get_C_log(dist, eps_range)\n",
        "        #make_graph(eps_range_log, c_log)\n",
        "    except Exception as e:\n",
        "        print(e)\n",
        "        return None\n",
        "    return lin_reg(eps_range_log, c_log)"
      ],
      "metadata": {
        "id": "IQcW-6MCzTA4"
      },
      "execution_count": 7,
      "outputs": []
    },
    {
      "cell_type": "code",
      "source": [
        "# для нескольких размерностей\n",
        "def calculate_several_dimensions(\n",
        "    embedding, lowest_number_dim=50, highest_number_dim=100):\n",
        "\n",
        "    dimensions = []\n",
        "    embedding = np.array(embedding)\n",
        "    for i in range(lowest_number_dim, highest_number_dim+1, 50):\n",
        "        current_embedding = [word_vector[:i] for word_vector in embedding]\n",
        "        try:\n",
        "            dist, eps_range, eps_range_log = establish_epsilon_range(current_embedding)\n",
        "            c_log = get_C_log(dist, eps_range)\n",
        "            dimensions.append(lin_reg(eps_range_log, c_log))\n",
        "            #make_graph(eps_range_log, c_log)\n",
        "        except Exception as e:\n",
        "            print(e)\n",
        "            return None\n",
        "    return dimensions"
      ],
      "metadata": {
        "id": "bn06Jzen3fyd"
      },
      "execution_count": 8,
      "outputs": []
    },
    {
      "cell_type": "markdown",
      "source": [
        "# Тестирование алгоритма"
      ],
      "metadata": {
        "id": "LdVlmt2E0oAi"
      }
    },
    {
      "cell_type": "markdown",
      "source": [
        "## Рассчет корреляционной размерности аттрактора Лоренца"
      ],
      "metadata": {
        "id": "NE_9OhHE7l2W"
      }
    },
    {
      "cell_type": "markdown",
      "source": [
        "Корреляционная размерность для аттрактора Лоренца составляет ~2,06. Оценим ее с помощью нашего алгоритма, чтобы проверить качество его работы."
      ],
      "metadata": {
        "id": "0xezCkqD74Fr"
      }
    },
    {
      "cell_type": "code",
      "source": [
        "from scipy.integrate import odeint\n",
        "\n",
        "# уравнения для задания аттрактора Лоренца со стандартными параметрами\n",
        "def lorenz_system(u, t, sigma=10, rho=28, beta=8/3):\n",
        "    x, y, z = u\n",
        "    dxdt = sigma * (y - x)\n",
        "    dydt = x * (rho - z) - y\n",
        "    dzdt = x * y - beta * z\n",
        "    return [dxdt, dydt, dzdt]\n",
        "\n",
        "initial_conditions = [1.0, 0.0, 0.0]\n",
        "t = np.arange(0, 1000, 0.1)\n",
        "solution = odeint(lorenz_system, initial_conditions, t)"
      ],
      "metadata": {
        "id": "bPbw8VLo0sek"
      },
      "execution_count": null,
      "outputs": []
    },
    {
      "cell_type": "code",
      "source": [
        "calculate_1_dimension(solution)"
      ],
      "metadata": {
        "id": "IA08x1Gz9BPC",
        "collapsed": true
      },
      "execution_count": null,
      "outputs": []
    },
    {
      "cell_type": "markdown",
      "source": [
        "# Обработка датафрейма"
      ],
      "metadata": {
        "id": "o_-hP0bzz9C1"
      }
    },
    {
      "cell_type": "markdown",
      "source": [
        "## Рассчет размерности"
      ],
      "metadata": {
        "id": "MuXFyJMy0DXB"
      }
    },
    {
      "cell_type": "code",
      "source": [
        "df = pd.read_pickle(\"final_text_df_with_bigram_6.pkl\")\n",
        "df_cleaned = df.dropna(subset=['embeddings'], how='any').copy()"
      ],
      "metadata": {
        "id": "1PsjtCHn1RWm"
      },
      "execution_count": 43,
      "outputs": []
    },
    {
      "cell_type": "code",
      "source": [
        "df = pd.read_pickle(\"final_text_df_with_trigram_6.pkl\")\n",
        "df_cleaned = df.dropna(subset=['embeddings'], how='any').copy()"
      ],
      "metadata": {
        "id": "uqgbx4cneG81"
      },
      "execution_count": null,
      "outputs": []
    },
    {
      "cell_type": "code",
      "source": [
        "# загрузка в случае прерывания процесса\n",
        "try:\n",
        "    with open('human_6_progress_backup1.pkl', 'rb') as f:\n",
        "        progress_data = pickle.load(f)\n",
        "    df_cleaned = progress_data['df']\n",
        "    processed_indices = progress_data['processed_indices']\n",
        "except (FileNotFoundError, EOFError):\n",
        "    processed_indices = set()\n",
        "    df_cleaned['dimension'] = None\n",
        "\n",
        "for idx, row in tqdm(df_cleaned.iterrows(), total=len(df_cleaned)):\n",
        "    if idx in processed_indices:\n",
        "        continue\n",
        "\n",
        "    try:\n",
        "        dimensions = calculate_1_dimension(row['embeddings'])\n",
        "        df_cleaned.at[idx, 'dimension'] = dimensions\n",
        "\n",
        "        # сохраняем после каждой строки\n",
        "        processed_indices.add(idx)\n",
        "        with open('human_6_progress_backup1', 'wb') as f:\n",
        "            pickle.dump({\n",
        "                'df': df_cleaned,\n",
        "                'processed_indices': processed_indices\n",
        "            }, f)\n",
        "\n",
        "    except Exception as e:\n",
        "        print(f\"Error processing row {idx}: {str(e)}\")\n",
        "        continue"
      ],
      "metadata": {
        "id": "nPrCw9mvtiQ6"
      },
      "execution_count": null,
      "outputs": []
    },
    {
      "cell_type": "code",
      "source": [
        "df_cleaned = df_cleaned.dropna(subset=['dimension'])\n",
        "df_cleaned.to_pickle('final_bigram_6_eps_1000.pkl')"
      ],
      "metadata": {
        "id": "Oo_vweEHV0mN"
      },
      "execution_count": null,
      "outputs": []
    },
    {
      "cell_type": "code",
      "source": [
        "df_cleaned = df_cleaned.dropna(subset=['dimension'])\n",
        "df_cleaned.to_pickle('final_trigram_6_eps_1000.pkl')"
      ],
      "metadata": {
        "id": "PnE8V25deLhn"
      },
      "execution_count": null,
      "outputs": []
    },
    {
      "cell_type": "markdown",
      "source": [
        "# Классификация"
      ],
      "metadata": {
        "id": "0u0Z6-Nb5trU"
      }
    },
    {
      "cell_type": "code",
      "source": [
        "import matplotlib.pyplot as plt\n",
        "from sklearn.model_selection import train_test_split\n",
        "from sklearn.neighbors import KNeighborsClassifier\n",
        "from sklearn.tree import DecisionTreeClassifier\n",
        "from sklearn.ensemble import AdaBoostClassifier, RandomForestClassifier\n",
        "from sklearn.svm import SVC\n",
        "from sklearn.linear_model import LogisticRegression\n",
        "from sklearn.metrics import classification_report, confusion_matrix, ConfusionMatrixDisplay"
      ],
      "metadata": {
        "id": "6_VZeO8U6Dp1"
      },
      "execution_count": 45,
      "outputs": []
    },
    {
      "cell_type": "code",
      "source": [
        "df1 = pd.read_pickle(\"final_trigram_6_eps_1000.pkl\")\n",
        "df2 = pd.read_pickle(\"final_trigram_6_eps_1000.pkl\")\n",
        "\n",
        "df1['dimension_2'] = df2['dimension']\n",
        "\n",
        "df1.drop(columns=['embeddings'], inplace=True)\n",
        "df = df1.dropna(subset=['dimension', 'dimension_2'], how='any').copy()"
      ],
      "metadata": {
        "id": "UuyUjioNZ7tz"
      },
      "execution_count": 47,
      "outputs": []
    },
    {
      "cell_type": "code",
      "source": [
        "corr = df.corr()\n",
        "\n",
        "# построение heatmap\n",
        "plt.figure(figsize=(10, 6))\n",
        "sns.heatmap(corr, annot=True, cmap='coolwarm', center=0)\n",
        "plt.title(\"Корреляция признаков с целевой переменной\")\n",
        "plt.show()"
      ],
      "metadata": {
        "colab": {
          "base_uri": "https://localhost:8080/",
          "height": 545
        },
        "id": "ktVjGjV7i3Fr",
        "outputId": "e7416530-7829-4b11-9269-f4262e3477a2"
      },
      "execution_count": null,
      "outputs": [
        {
          "output_type": "display_data",
          "data": {
            "text/plain": [
              "<Figure size 1000x600 with 2 Axes>"
            ],
            "image/png": "[encoded data removed]"
          },
          "metadata": {}
        }
      ]
    },
    {
      "cell_type": "code",
      "source": [
        "mask_4 = df['file id'] == 4\n",
        "df_4 = df[mask_4]\n",
        "df_not_4 = df[~mask_4]\n",
        "\n",
        "df_4_train = df_4.iloc[:len(df_4) // 2]\n",
        "df_4_test = df_4.iloc[len(df_4) // 2:]\n",
        "\n",
        "# формируем train и test\n",
        "\n",
        "# file id train\n",
        "train = pd.concat([\n",
        "    df_not_4[df_not_4['file id'].isin([0, 1])],\n",
        "    df_4_train\n",
        "])\n",
        "\n",
        "# file id test\n",
        "test = pd.concat([\n",
        "    df_not_4[df_not_4['file id'].isin([2, 3])],\n",
        "    df_4_test\n",
        "])"
      ],
      "metadata": {
        "id": "YoP5MRxJcXBQ"
      },
      "execution_count": 53,
      "outputs": []
    },
    {
      "cell_type": "code",
      "source": [
        "X_train = train.drop(columns=['file id', 'bot'])\n",
        "y_train = train['bot'].values\n",
        "\n",
        "X_test = test.drop(columns=['file id', 'bot'])\n",
        "y_test = test['bot'].values"
      ],
      "metadata": {
        "id": "jv1nTJB6dWPZ"
      },
      "execution_count": 54,
      "outputs": []
    },
    {
      "cell_type": "markdown",
      "source": [
        "## KNN"
      ],
      "metadata": {
        "id": "PyV462a5izw3"
      }
    },
    {
      "cell_type": "code",
      "source": [
        "knn = KNeighborsClassifier(n_neighbors=25)\n",
        "knn.fit(X_train, y_train)\n",
        "\n",
        "y_pred = knn.predict(X_test)\n",
        "print(classification_report(y_test, y_pred))\n",
        "\n",
        "matrix1 = confusion_matrix(y_test, y_pred, normalize=None)\n",
        "disp1 = ConfusionMatrixDisplay(confusion_matrix=matrix1)\n",
        "disp1.plot()"
      ],
      "metadata": {
        "id": "G9iWX5QzkGbq",
        "colab": {
          "base_uri": "https://localhost:8080/",
          "height": 629
        },
        "outputId": "a01ea5d9-83c9-44ae-cad6-2ee9dbd0acee"
      },
      "execution_count": null,
      "outputs": [
        {
          "output_type": "stream",
          "name": "stdout",
          "text": [
            "              precision    recall  f1-score   support\n",
            "\n",
            "           0       0.59      0.85      0.70       793\n",
            "           1       0.72      0.38      0.50       772\n",
            "\n",
            "    accuracy                           0.62      1565\n",
            "   macro avg       0.65      0.62      0.60      1565\n",
            "weighted avg       0.65      0.62      0.60      1565\n",
            "\n"
          ]
        },
        {
          "output_type": "execute_result",
          "data": {
            "text/plain": [
              "<sklearn.metrics._plot.confusion_matrix.ConfusionMatrixDisplay at 0x7d8377aab3d0>"
            ]
          },
          "metadata": {},
          "execution_count": 243
        },
        {
          "output_type": "display_data",
          "data": {
            "text/plain": [
              "<Figure size 640x480 with 2 Axes>"
            ],
            "image/png": "[encoded data removed]"
          },
          "metadata": {}
        }
      ]
    },
    {
      "cell_type": "markdown",
      "source": [
        "## AdaBoostClassifier"
      ],
      "metadata": {
        "id": "0T8Z2nyPeqgM"
      }
    },
    {
      "cell_type": "code",
      "source": [
        "ada = AdaBoostClassifier()\n",
        "ada.fit(X_train, y_train)\n",
        "\n",
        "y_pred = ada.predict(X_test)\n",
        "print(classification_report(y_test, y_pred))\n",
        "\n",
        "matrix1 = confusion_matrix(y_test, y_pred, normalize=None)\n",
        "disp1 = ConfusionMatrixDisplay(confusion_matrix=matrix1)\n",
        "disp1.plot()"
      ],
      "metadata": {
        "colab": {
          "base_uri": "https://localhost:8080/",
          "height": 629
        },
        "id": "30Qwwxe0evoB",
        "outputId": "b8f04a89-d342-4877-d21e-c550bfbb472c"
      },
      "execution_count": 55,
      "outputs": [
        {
          "output_type": "stream",
          "name": "stdout",
          "text": [
            "              precision    recall  f1-score   support\n",
            "\n",
            "           0       0.58      0.88      0.70       793\n",
            "           1       0.74      0.35      0.48       772\n",
            "\n",
            "    accuracy                           0.62      1565\n",
            "   macro avg       0.66      0.62      0.59      1565\n",
            "weighted avg       0.66      0.62      0.59      1565\n",
            "\n"
          ]
        },
        {
          "output_type": "execute_result",
          "data": {
            "text/plain": [
              "<sklearn.metrics._plot.confusion_matrix.ConfusionMatrixDisplay at 0x7a494dbe5c10>"
            ]
          },
          "metadata": {},
          "execution_count": 55
        },
        {
          "output_type": "display_data",
          "data": {
            "text/plain": [
              "<Figure size 640x480 with 2 Axes>"
            ],
            "image/png": "[encoded data removed]"
          },
          "metadata": {}
        }
      ]
    },
    {
      "cell_type": "markdown",
      "source": [
        "## SVC"
      ],
      "metadata": {
        "id": "-i8bQxAwjNcQ"
      }
    },
    {
      "cell_type": "code",
      "source": [
        "svc = SVC()\n",
        "svc.fit(X_train, y_train)\n",
        "\n",
        "y_pred = svc.predict(X_test)\n",
        "print(classification_report(y_test, y_pred))\n",
        "\n",
        "matrix1 = confusion_matrix(y_test, y_pred, normalize=None)\n",
        "disp1 = ConfusionMatrixDisplay(confusion_matrix=matrix1)\n",
        "disp1.plot()"
      ],
      "metadata": {
        "id": "8yRFyA60kIjL",
        "colab": {
          "base_uri": "https://localhost:8080/",
          "height": 629
        },
        "outputId": "f693a36c-961b-4682-cafc-c884ad13c529"
      },
      "execution_count": null,
      "outputs": [
        {
          "output_type": "stream",
          "name": "stdout",
          "text": [
            "              precision    recall  f1-score   support\n",
            "\n",
            "           0       0.58      0.92      0.71       793\n",
            "           1       0.78      0.31      0.44       772\n",
            "\n",
            "    accuracy                           0.62      1565\n",
            "   macro avg       0.68      0.61      0.57      1565\n",
            "weighted avg       0.68      0.62      0.58      1565\n",
            "\n"
          ]
        },
        {
          "output_type": "execute_result",
          "data": {
            "text/plain": [
              "<sklearn.metrics._plot.confusion_matrix.ConfusionMatrixDisplay at 0x7d8377fc3590>"
            ]
          },
          "metadata": {},
          "execution_count": 245
        },
        {
          "output_type": "display_data",
          "data": {
            "text/plain": [
              "<Figure size 640x480 with 2 Axes>"
            ],
            "image/png": "[encoded data removed]"
          },
          "metadata": {}
        }
      ]
    },
    {
      "cell_type": "markdown",
      "source": [
        "## LogisticRegression"
      ],
      "metadata": {
        "id": "jRW_JTjBfb9W"
      }
    },
    {
      "cell_type": "code",
      "source": [
        "logistic_regression = LogisticRegression(C=1)\n",
        "logistic_regression.fit(X_train, y_train)\n",
        "\n",
        "y_pred = logistic_regression.predict(X_test)\n",
        "print(classification_report(y_test, y_pred))\n",
        "\n",
        "matrix1 = confusion_matrix(y_test, y_pred, normalize=None)\n",
        "disp1 = ConfusionMatrixDisplay(confusion_matrix=matrix1)\n",
        "disp1.plot()"
      ],
      "metadata": {
        "colab": {
          "base_uri": "https://localhost:8080/",
          "height": 629
        },
        "id": "gFbm6ZFqfdm-",
        "outputId": "6c835e05-1d9b-4b38-86e8-9e7ed1ca0d28"
      },
      "execution_count": null,
      "outputs": [
        {
          "output_type": "stream",
          "name": "stdout",
          "text": [
            "              precision    recall  f1-score   support\n",
            "\n",
            "           0       0.57      0.90      0.70       793\n",
            "           1       0.74      0.29      0.42       772\n",
            "\n",
            "    accuracy                           0.60      1565\n",
            "   macro avg       0.65      0.60      0.56      1565\n",
            "weighted avg       0.65      0.60      0.56      1565\n",
            "\n"
          ]
        },
        {
          "output_type": "execute_result",
          "data": {
            "text/plain": [
              "<sklearn.metrics._plot.confusion_matrix.ConfusionMatrixDisplay at 0x7d837785ddd0>"
            ]
          },
          "metadata": {},
          "execution_count": 246
        },
        {
          "output_type": "display_data",
          "data": {
            "text/plain": [
              "<Figure size 640x480 with 2 Axes>"
            ],
            "image/png": "[encoded data removed]"
          },
          "metadata": {}
        }
      ]
    }
  ],
  "metadata": {
    "colab": {
      "provenance": []
    },
    "kernelspec": {
      "display_name": "Python 3",
      "name": "python3"
    },
    "language_info": {
      "name": "python"
    }
  },
  "nbformat": 4,
  "nbformat_minor": 0
}